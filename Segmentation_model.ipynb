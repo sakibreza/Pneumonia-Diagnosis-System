{
 "cells": [
  {
   "cell_type": "markdown",
   "metadata": {},
   "source": [
    "# TransResUNet: Fully Convolutional Model for Lungs Segmentation"
   ]
  },
  {
   "cell_type": "code",
   "execution_count": 1,
   "metadata": {},
   "outputs": [],
   "source": [
    "import numpy as np\n",
    "import os\n",
    "import tensorflow as tf\n",
    "from tensorflow.keras.models import *\n",
    "from tensorflow.keras.layers import *\n",
    "from tensorflow.keras.optimizers import *\n",
    "from tensorflow.keras.callbacks import ModelCheckpoint, LearningRateScheduler\n",
    "from tensorflow.keras.applications.vgg16 import VGG16"
   ]
  },
  {
   "cell_type": "markdown",
   "metadata": {},
   "source": [
    "# Residual Path"
   ]
  },
  {
   "cell_type": "code",
   "execution_count": 2,
   "metadata": {
    "_cell_guid": "b1076dfc-b9ad-4769-8c92-a6c4dae69d19",
    "_uuid": "8f2839f25d086af736a60e9eeb907d3b93b6e0e5"
   },
   "outputs": [],
   "source": [
    "def res_path(inputs,filter_size,path_number):\n",
    "    def block(x,fl):\n",
    "        cnn1 = Conv2D(filter_size,(3,3),padding = 'same',activation=\"relu\")(inputs)\n",
    "        cnn2 = Conv2D(filter_size,(1,1),padding = 'same',activation=\"relu\")(inputs)\n",
    "\n",
    "        add = Add()([cnn1,cnn2])\n",
    "\n",
    "        return add\n",
    "    \n",
    "    cnn = block(inputs, filter_size)\n",
    "    if path_number <= 3:\n",
    "        cnn = block(cnn,filter_size)\n",
    "        if path_number <= 2:\n",
    "            cnn = block(cnn,filter_size)\n",
    "            if path_number <= 1:\n",
    "                cnn = block(cnn,filter_size)\n",
    "\n",
    "    return cnn"
   ]
  },
  {
   "cell_type": "markdown",
   "metadata": {},
   "source": [
    "# Decoder Block"
   ]
  },
  {
   "cell_type": "code",
   "execution_count": 3,
   "metadata": {},
   "outputs": [],
   "source": [
    "def decoder_block(inputs, mid_channels, out_channels):\n",
    "    conv_kwargs = dict(\n",
    "        activation='relu',\n",
    "        padding='same',\n",
    "        kernel_initializer='he_normal',\n",
    "        data_format='channels_last'  \n",
    "    )\n",
    "\n",
    "    x = UpSampling2D(size=(2, 2))(inputs) \n",
    "    x = Conv2D(mid_channels, 3, **conv_kwargs)(x)\n",
    "    x = Conv2D(out_channels, 3, **conv_kwargs)(x)\n",
    "    return x\n"
   ]
  },
  {
   "cell_type": "code",
   "execution_count": 4,
   "metadata": {
    "_cell_guid": "79c7e3d0-c299-4dcb-8224-4455121ee9b0",
    "_uuid": "d629ff2d2480ee46fbb7e2d37f6b5fab8052498a"
   },
   "outputs": [],
   "source": [
    "def TransResUNet(input_size=(512, 512, 1), output_channels=1):\n",
    "\n",
    "    inputs = Input(input_size)\n",
    "    x = inputs\n",
    "    input_shape = input_size\n",
    "    if input_size[-1] < 3:\n",
    "        x = Conv2D(3, 1)(inputs)                         \n",
    "        input_shape = (input_size[0], input_size[0], 3)  \n",
    "    else:\n",
    "        x = inputs\n",
    "        input_shape = input_size\n",
    "\n",
    "    encoder = VGG16(include_top=False, weights='imagenet', input_shape=input_shape)\n",
    "       \n",
    "    #first encoder block\n",
    "    enc1 = encoder.get_layer(name='block1_conv1')(x)\n",
    "    enc1 = encoder.get_layer(name='block1_conv2')(enc1)\n",
    "    #second encoder block\n",
    "    enc2 = MaxPooling2D(pool_size=(2, 2))(enc1)\n",
    "    enc2 = encoder.get_layer(name='block2_conv1')(enc2)\n",
    "    enc2 = encoder.get_layer(name='block2_conv2')(enc2)\n",
    "    #third encoder block\n",
    "    enc3 = MaxPooling2D(pool_size=(2, 2))(enc2)\n",
    "    enc3 = encoder.get_layer(name='block3_conv1')(enc3)\n",
    "    enc3 = encoder.get_layer(name='block3_conv2')(enc3)\n",
    "    enc3 = encoder.get_layer(name='block3_conv3')(enc3)\n",
    "\n",
    "    #center block\n",
    "    center = MaxPooling2D(pool_size=(2, 2))(enc3)\n",
    "    center = decoder_block(center, 512, 256)\n",
    "\n",
    "    # Decoder block corresponding to third encoder\n",
    "    res_path3 = res_path(enc3,128,3)\n",
    "    dec3 = concatenate([res_path3, center], axis=3)\n",
    "    dec3 = decoder_block(dec3, 256, 64)\n",
    "    # Decoder block corresponding to second encoder\n",
    "    res_path2 = res_path(enc2,64,2)\n",
    "    dec2 = concatenate([res_path2, dec3], axis=3)\n",
    "    dec2 = decoder_block(dec2, 128, 64)\n",
    "    # Final Block concatenation with first encoded feature \n",
    "    res_path1 = res_path(enc1,32,1)\n",
    "    dec1 = concatenate([res_path1, dec2], axis=3)\n",
    "    dec1 = Conv2D(32, 3, padding='same', kernel_initializer='he_normal')(dec1)\n",
    "    dec1 = ReLU()(dec1)\n",
    "   \n",
    "\n",
    "    # Output\n",
    "    if output_channels > 1:\n",
    "        out = tf.nn.log_softmax_v2(dec1, axis=3)\n",
    "    else:\n",
    "        out = Conv2D(output_channels, 1)(dec1)\n",
    "        out = Activation('sigmoid')(out)  \n",
    "\n",
    "    model = Model(inputs=[inputs], outputs=[out])\n",
    "    return model"
   ]
  },
  {
   "cell_type": "markdown",
   "metadata": {},
   "source": [
    "# Model Summary"
   ]
  },
  {
   "cell_type": "code",
   "execution_count": 5,
   "metadata": {},
   "outputs": [
    {
     "name": "stdout",
     "output_type": "stream",
     "text": [
      "Downloading data from https://github.com/fchollet/deep-learning-models/releases/download/v0.1/vgg16_weights_tf_dim_ordering_tf_kernels_notop.h5\n",
      "58892288/58889256 [==============================] - 6s 0us/step\n",
      "Model: \"model\"\n",
      "__________________________________________________________________________________________________\n",
      "Layer (type)                    Output Shape         Param #     Connected to                     \n",
      "==================================================================================================\n",
      "input_1 (InputLayer)            [(None, 512, 512, 1) 0                                            \n",
      "__________________________________________________________________________________________________\n",
      "conv2d (Conv2D)                 (None, 512, 512, 3)  6           input_1[0][0]                    \n",
      "__________________________________________________________________________________________________\n",
      "block1_conv1 (Conv2D)           (None, 512, 512, 64) 1792        conv2d[0][0]                     \n",
      "__________________________________________________________________________________________________\n",
      "block1_conv2 (Conv2D)           (None, 512, 512, 64) 36928       block1_conv1[1][0]               \n",
      "__________________________________________________________________________________________________\n",
      "max_pooling2d (MaxPooling2D)    (None, 256, 256, 64) 0           block1_conv2[1][0]               \n",
      "__________________________________________________________________________________________________\n",
      "block2_conv1 (Conv2D)           (None, 256, 256, 128 73856       max_pooling2d[0][0]              \n",
      "__________________________________________________________________________________________________\n",
      "block2_conv2 (Conv2D)           (None, 256, 256, 128 147584      block2_conv1[1][0]               \n",
      "__________________________________________________________________________________________________\n",
      "max_pooling2d_1 (MaxPooling2D)  (None, 128, 128, 128 0           block2_conv2[1][0]               \n",
      "__________________________________________________________________________________________________\n",
      "block3_conv1 (Conv2D)           (None, 128, 128, 256 295168      max_pooling2d_1[0][0]            \n",
      "__________________________________________________________________________________________________\n",
      "block3_conv2 (Conv2D)           (None, 128, 128, 256 590080      block3_conv1[1][0]               \n",
      "__________________________________________________________________________________________________\n",
      "block3_conv3 (Conv2D)           (None, 128, 128, 256 590080      block3_conv2[1][0]               \n",
      "__________________________________________________________________________________________________\n",
      "max_pooling2d_2 (MaxPooling2D)  (None, 64, 64, 256)  0           block3_conv3[1][0]               \n",
      "__________________________________________________________________________________________________\n",
      "up_sampling2d (UpSampling2D)    (None, 128, 128, 256 0           max_pooling2d_2[0][0]            \n",
      "__________________________________________________________________________________________________\n",
      "conv2d_5 (Conv2D)               (None, 128, 128, 128 295040      block3_conv3[1][0]               \n",
      "__________________________________________________________________________________________________\n",
      "conv2d_6 (Conv2D)               (None, 128, 128, 128 32896       block3_conv3[1][0]               \n",
      "__________________________________________________________________________________________________\n",
      "conv2d_1 (Conv2D)               (None, 128, 128, 512 1180160     up_sampling2d[0][0]              \n",
      "__________________________________________________________________________________________________\n",
      "add_1 (Add)                     (None, 128, 128, 128 0           conv2d_5[0][0]                   \n",
      "                                                                 conv2d_6[0][0]                   \n",
      "__________________________________________________________________________________________________\n",
      "conv2d_2 (Conv2D)               (None, 128, 128, 256 1179904     conv2d_1[0][0]                   \n",
      "__________________________________________________________________________________________________\n",
      "concatenate (Concatenate)       (None, 128, 128, 384 0           add_1[0][0]                      \n",
      "                                                                 conv2d_2[0][0]                   \n",
      "__________________________________________________________________________________________________\n",
      "up_sampling2d_1 (UpSampling2D)  (None, 256, 256, 384 0           concatenate[0][0]                \n",
      "__________________________________________________________________________________________________\n",
      "conv2d_13 (Conv2D)              (None, 256, 256, 64) 73792       block2_conv2[1][0]               \n",
      "__________________________________________________________________________________________________\n",
      "conv2d_14 (Conv2D)              (None, 256, 256, 64) 8256        block2_conv2[1][0]               \n",
      "__________________________________________________________________________________________________\n",
      "conv2d_7 (Conv2D)               (None, 256, 256, 256 884992      up_sampling2d_1[0][0]            \n",
      "__________________________________________________________________________________________________\n",
      "add_4 (Add)                     (None, 256, 256, 64) 0           conv2d_13[0][0]                  \n",
      "                                                                 conv2d_14[0][0]                  \n",
      "__________________________________________________________________________________________________\n",
      "conv2d_8 (Conv2D)               (None, 256, 256, 64) 147520      conv2d_7[0][0]                   \n",
      "__________________________________________________________________________________________________\n",
      "concatenate_1 (Concatenate)     (None, 256, 256, 128 0           add_4[0][0]                      \n",
      "                                                                 conv2d_8[0][0]                   \n",
      "__________________________________________________________________________________________________\n",
      "up_sampling2d_2 (UpSampling2D)  (None, 512, 512, 128 0           concatenate_1[0][0]              \n",
      "__________________________________________________________________________________________________\n",
      "conv2d_23 (Conv2D)              (None, 512, 512, 32) 18464       block1_conv2[1][0]               \n",
      "__________________________________________________________________________________________________\n",
      "conv2d_24 (Conv2D)              (None, 512, 512, 32) 2080        block1_conv2[1][0]               \n",
      "__________________________________________________________________________________________________\n",
      "conv2d_15 (Conv2D)              (None, 512, 512, 128 147584      up_sampling2d_2[0][0]            \n",
      "__________________________________________________________________________________________________\n",
      "add_8 (Add)                     (None, 512, 512, 32) 0           conv2d_23[0][0]                  \n",
      "                                                                 conv2d_24[0][0]                  \n",
      "__________________________________________________________________________________________________\n",
      "conv2d_16 (Conv2D)              (None, 512, 512, 64) 73792       conv2d_15[0][0]                  \n",
      "__________________________________________________________________________________________________\n",
      "concatenate_2 (Concatenate)     (None, 512, 512, 96) 0           add_8[0][0]                      \n",
      "                                                                 conv2d_16[0][0]                  \n",
      "__________________________________________________________________________________________________\n",
      "conv2d_25 (Conv2D)              (None, 512, 512, 32) 27680       concatenate_2[0][0]              \n",
      "__________________________________________________________________________________________________\n",
      "re_lu (ReLU)                    (None, 512, 512, 32) 0           conv2d_25[0][0]                  \n",
      "__________________________________________________________________________________________________\n",
      "conv2d_26 (Conv2D)              (None, 512, 512, 1)  33          re_lu[0][0]                      \n",
      "__________________________________________________________________________________________________\n",
      "activation (Activation)         (None, 512, 512, 1)  0           conv2d_26[0][0]                  \n",
      "==================================================================================================\n",
      "Total params: 5,807,687\n",
      "Trainable params: 5,807,687\n",
      "Non-trainable params: 0\n",
      "__________________________________________________________________________________________________\n"
     ]
    }
   ],
   "source": [
    "model = TransResUNet()\n",
    "model.summary()"
   ]
  },
  {
   "cell_type": "code",
   "execution_count": null,
   "metadata": {},
   "outputs": [],
   "source": []
  }
 ],
 "metadata": {
  "kernelspec": {
   "display_name": "Python 3",
   "language": "python",
   "name": "python3"
  },
  "language_info": {
   "codemirror_mode": {
    "name": "ipython",
    "version": 3
   },
   "file_extension": ".py",
   "mimetype": "text/x-python",
   "name": "python",
   "nbconvert_exporter": "python",
   "pygments_lexer": "ipython3",
   "version": "3.6.6"
  }
 },
 "nbformat": 4,
 "nbformat_minor": 1
}
